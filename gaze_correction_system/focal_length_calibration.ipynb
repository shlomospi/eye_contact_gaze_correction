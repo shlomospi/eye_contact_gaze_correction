{
 "cells": [
  {
   "cell_type": "markdown",
   "metadata": {},
   "source": [
    "# Parameter settings"
   ]
  },
  {
   "cell_type": "code",
   "execution_count": 6,
   "metadata": {},
   "outputs": [],
   "source": [
    "import dlib\n",
    "# install dlib by \"pip install cmake dlib\"\n",
    "import cv2\n",
    "import numpy as np"
   ]
  },
  {
   "cell_type": "code",
   "execution_count": 7,
   "metadata": {},
   "outputs": [],
   "source": [
    "# Please place your head in front of the camera about 50 cm\n",
    "d = 50 # cm\n",
    "\n",
    "# Please set your interpupillary distance (the distance between two eyes) in the code\n",
    "# or you can just set it to the average distance 6.3 cm\n",
    "P_IPD = 6.3 # cm\n",
    "\n",
    "# default image resolution\n",
    "video_res = [640,480]\n",
    "\n",
    "# define the face detector from Dlib package\n",
    "detector = dlib.get_frontal_face_detector()\n",
    "predictor = dlib.shape_predictor(\"./lm_feat/shape_predictor_68_face_landmarks.dat\")\n",
    "\n",
    "# detect face size with smaller resolustion for detection efficiency\n",
    "face_detect_size = [320,240]"
   ]
  },
  {
   "cell_type": "code",
   "execution_count": 8,
   "metadata": {},
   "outputs": [],
   "source": [
    "def get_eye_pos(shape, pos = \"L\"):\n",
    "    if(pos == \"R\"):\n",
    "        lc = 36 # idx for the left corner of the right eye\n",
    "        rc = 39 # idx for the right corner of the right eye\n",
    "        FP_seq = [36,37,38,39,40,41] # landmarkds for right eyes\n",
    "    elif(pos == \"L\"):\n",
    "        lc = 42 # idx for the left corner of the right eye\n",
    "        rc = 45 # idx for the right corner of the right eye\n",
    "        FP_seq = [45,44,43,42,47,46] # landmarkds for right eyes\n",
    "    else:\n",
    "        print(\"Error: Wrong pos parameter\")\n",
    "\n",
    "    eye_cx = (shape.part(rc).x+shape.part(lc).x)*0.5\n",
    "    eye_cy = (shape.part(rc).y+shape.part(lc).y)*0.5\n",
    "    eye_center = [eye_cx, eye_cy]\n",
    "    eye_len = np.absolute(shape.part(rc).x - shape.part(lc).x)\n",
    "    bx_d5w = eye_len*3/4\n",
    "    bx_h = 1.5*bx_d5w\n",
    "    \n",
    "    # Slightly moveing up the center of the bounding box\n",
    "    # because the upper lids are more dynamic than the lower lids\n",
    "    sft_up = bx_h*7/12\n",
    "    sft_low = bx_h*5/12\n",
    "    E_TL = (int(eye_cx-bx_d5w),int(eye_cy-sft_up))\n",
    "    E_RB = (int(eye_cx+bx_d5w),int(eye_cy+sft_low))\n",
    "    return eye_center, E_TL, E_RB"
   ]
  },
  {
   "cell_type": "markdown",
   "metadata": {},
   "source": [
    "# Starting to capture your face, push \"q\" to leave the program"
   ]
  },
  {
   "cell_type": "code",
   "execution_count": 9,
   "metadata": {},
   "outputs": [],
   "source": [
    "vs = cv2.VideoCapture(0)\n",
    "\n",
    "while True:\n",
    "    ret, recv_frame = vs.read()\n",
    "    if ret == True:\n",
    "        gray = cv2.cvtColor(recv_frame, cv2.COLOR_BGR2GRAY)\n",
    "        face_detect_gray = cv2.resize(gray, (face_detect_size[0], face_detect_size[1]))\n",
    "        # Detect the facial landmarks\n",
    "        detections = detector(face_detect_gray, 0)\n",
    "        x_ratio = video_res[0]/face_detect_size[0]\n",
    "        y_ratio = video_res[1]/face_detect_size[1]\n",
    "        LE_ach_maps=[]\n",
    "        RE_ach_maps=[]\n",
    "        for k,bx in enumerate(detections):\n",
    "            target_bx = dlib.rectangle(left=int(bx.left()*x_ratio), right =int(bx.right()*x_ratio),\n",
    "                                       top =int(bx.top()*y_ratio),  bottom=int(bx.bottom()*y_ratio))\n",
    "            shape = predictor(gray, target_bx)\n",
    "            # get the left and right eyes\n",
    "            LE_center, L_E_TL, L_E_RB = get_eye_pos(shape, pos=\"L\")\n",
    "            RE_center, R_E_TL, R_E_RB = get_eye_pos(shape, pos=\"R\")\n",
    "            \n",
    "            f = int(np.sqrt((LE_center[0]-RE_center[0])**2 + (LE_center[1]-RE_center[1])**2)*d/P_IPD)\n",
    "            cv2.rectangle(recv_frame,\n",
    "                          (video_res[0]-150,0),(video_res[0],40),\n",
    "                          (255,255,255),-1\n",
    "                         )\n",
    "            cv2.putText(recv_frame,\n",
    "                        'f:'+str(f),\n",
    "                        (video_res[0]-140,15), cv2.FONT_HERSHEY_SIMPLEX, 0.4,(0,0,255),1,cv2.LINE_AA)\n",
    "            \n",
    "            # draw the regions of two eyes with blue\n",
    "            cv2.rectangle(recv_frame,\n",
    "                          (L_E_TL[0],L_E_TL[1]),(L_E_RB[0],L_E_RB[1]),\n",
    "                          (255,0,0),1)\n",
    "            cv2.rectangle(recv_frame,\n",
    "                          (R_E_TL[0],R_E_TL[1]),(R_E_RB[0],R_E_RB[1]),\n",
    "                          (255,0,0),1)\n",
    "            \n",
    "            # highlight the midlle point of the eye corners with green\n",
    "            cv2.circle(recv_frame,(int(LE_center[0]),int(LE_center[1])), 2, (0,255,0), -1)\n",
    "            cv2.circle(recv_frame,(int(RE_center[0]),int(RE_center[1])), 2, (0,255,0), -1)\n",
    "            # draw facial landmarks with red\n",
    "            for i in range(68):\n",
    "                cv2.circle(recv_frame,(shape.part(i).x,shape.part(i).y), 2, (0,0,255), -1)\n",
    "\n",
    "        cv2.imshow(\"Calibration\", recv_frame)\n",
    "        k = cv2.waitKey(10)\n",
    "        if k == ord('q'):\n",
    "            vs.release()\n",
    "            cv2.destroyAllWindows()\n",
    "            break\n",
    "        else:\n",
    "            pass"
   ]
  },
  {
   "cell_type": "markdown",
   "metadata": {},
   "source": [
    "# remember to set the f value to the \"config.py\"# "
   ]
  },
  {
   "cell_type": "code",
   "execution_count": 10,
   "metadata": {},
   "outputs": [
    {
     "name": "stdout",
     "output_type": "stream",
     "text": [
      "The focal length of your camera is 632 ,please set the value of f (--f) in the config.py\n"
     ]
    }
   ],
   "source": [
    "print(\"The focal length of your camera is\", f, \",please set the value of f (--f) in the config.py\")"
   ]
  }
 ],
 "metadata": {
  "kernelspec": {
   "display_name": "Python 3",
   "language": "python",
   "name": "python3"
  },
  "language_info": {
   "codemirror_mode": {
    "name": "ipython",
    "version": 3
   },
   "file_extension": ".py",
   "mimetype": "text/x-python",
   "name": "python",
   "nbconvert_exporter": "python",
   "pygments_lexer": "ipython3",
   "version": "3.7.7"
  }
 },
 "nbformat": 4,
 "nbformat_minor": 2
}
