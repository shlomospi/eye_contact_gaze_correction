{
 "cells": [
  {
   "cell_type": "code",
   "execution_count": 1,
   "metadata": {},
   "outputs": [],
   "source": [
    "import time\n",
    "import os\n",
    "import re\n",
    "import numpy as np\n",
    "from six.moves import xrange\n",
    "import matplotlib.gridspec as gridspec\n",
    "import matplotlib.pyplot as plt\n",
    "import load_dataset2"
   ]
  },
  {
   "cell_type": "code",
   "execution_count": 2,
   "metadata": {},
   "outputs": [],
   "source": [
    "data_dir = \"./\"\n",
    "train_dir='training_inputs/'\n",
    "eye = \"L\""
   ]
  },
  {
   "cell_type": "code",
   "execution_count": 3,
   "metadata": {
    "scrolled": false
   },
   "outputs": [
    {
     "name": "stdout",
     "output_type": "stream",
     "text": [
      "[T] pose dirs ['0']\n",
      "pose 0\n",
      "[T] dirs ['0000' '0001']\n",
      "./training_inputs/0\\0000\n",
      "./training_inputs/0\\0001\n"
     ]
    }
   ],
   "source": [
    "train_pose_dirs = np.asarray([d for d in os.listdir(os.path.join(data_dir,train_dir)) if os.path.isdir(os.path.join(data_dir,train_dir, d))])\n",
    "print(\"[T] pose dirs\", train_pose_dirs)\n",
    "\n",
    "train_dicts = {}\n",
    "for p in train_pose_dirs:\n",
    "    print('pose', p)\n",
    "    train_dirs = np.asarray([d for d in os.listdir(os.path.join(data_dir,train_dir, p)) if os.path.isdir(os.path.join(data_dir,train_dir, p, d))])\n",
    "    print(\"[T] dirs\", train_dirs)\n",
    " \n",
    "    # load training inputs\n",
    "    train_dict = load_dataset2.load(data_dir=os.path.join(data_dir,train_dir, p), dirs = train_dirs, eye = eye)\n",
    " \n",
    "    train_dicts[p] = train_dict"
   ]
  },
  {
   "cell_type": "code",
   "execution_count": 4,
   "metadata": {},
   "outputs": [
    {
     "data": {
      "text/plain": [
       "dict_keys(['0'])"
      ]
     },
     "execution_count": 4,
     "metadata": {},
     "output_type": "execute_result"
    }
   ],
   "source": [
    "train_dicts.keys()"
   ]
  },
  {
   "cell_type": "code",
   "execution_count": 5,
   "metadata": {},
   "outputs": [],
   "source": [
    "ori_imgs = []\n",
    "eye_imgs = []\n",
    "lid_imgs = []\n",
    "for pose in train_dicts.keys():\n",
    "    for uid in range(len(train_dicts[pose]['imgs_ori'])):\n",
    "        for img in range(len(train_dicts[pose]['imgs_ori'][uid])):\n",
    "            ori_imgs.append(train_dicts[pose]['imgs_ori'][uid][img])\n",
    "            temp = train_dicts[pose]['imgs_ori'][uid][img]*np.tile(np.expand_dims(train_dicts[pose]['msk_eye'][uid][img], axis = 2), (1,1,3))\n",
    "            eye_imgs.append(temp)\n",
    "            temp = train_dicts[pose]['imgs_ori'][uid][img]*np.tile(np.expand_dims(train_dicts[pose]['msk_lid'][uid][img], axis = 2), (1,1,3))\n",
    "            lid_imgs.append(temp)\n",
    "            \n",
    "ori_imgs = np.asarray(ori_imgs)\n",
    "eye_imgs = np.asarray(eye_imgs)\n",
    "lid_imgs = np.asarray(lid_imgs)\n",
    "ori_imgs = np.expand_dims(ori_imgs,axis=1)\n",
    "eye_imgs = np.expand_dims(eye_imgs,axis=1)\n",
    "lid_imgs = np.expand_dims(lid_imgs,axis=1)\n",
    "imgs = np.concatenate((ori_imgs,eye_imgs,lid_imgs), axis = 1)"
   ]
  },
  {
   "cell_type": "code",
   "execution_count": 6,
   "metadata": {},
   "outputs": [
    {
     "data": {
      "text/plain": [
       "(18, 3, 48, 64, 3)"
      ]
     },
     "execution_count": 6,
     "metadata": {},
     "output_type": "execute_result"
    }
   ],
   "source": [
    "imgs.shape"
   ]
  },
  {
   "cell_type": "code",
   "execution_count": 7,
   "metadata": {},
   "outputs": [],
   "source": [
    "def grid_plot(samples, filepath):\n",
    "    sample_shp = samples.shape\n",
    "    fig = plt.figure(figsize=(sample_shp[1], sample_shp[0]))\n",
    "    gs = gridspec.GridSpec(sample_shp[0], sample_shp[1])\n",
    "    gs.update(wspace=0.05, hspace=0.05)\n",
    "    samples = samples.reshape(-1, sample_shp[2], sample_shp[3], sample_shp[4])\n",
    "    for i, sample in enumerate(samples):\n",
    "        ax = plt.subplot(gs[i])\n",
    "        plt.axis('off')\n",
    "        ax.set_xticklabels([])\n",
    "        ax.set_yticklabels([])\n",
    "        ax.set_aspect('equal')\n",
    "        plt.imshow(sample.reshape(sample_shp[2], sample_shp[3], sample_shp[4]))\n",
    "    plt.savefig(\"./eye_imgs/\"+str(filepath)+ \".png\")\n",
    "    plt.close(\"all\")"
   ]
  },
  {
   "cell_type": "code",
   "execution_count": 8,
   "metadata": {
    "scrolled": false
   },
   "outputs": [],
   "source": [
    "for i in range(0,ori_imgs.shape[0],30):\n",
    "    temp = imgs[i:i+30]\n",
    "    grid_plot(temp,i)"
   ]
  }
 ],
 "metadata": {
  "kernelspec": {
   "display_name": "Python 3",
   "language": "python",
   "name": "python3"
  },
  "language_info": {
   "codemirror_mode": {
    "name": "ipython",
    "version": 3
   },
   "file_extension": ".py",
   "mimetype": "text/x-python",
   "name": "python",
   "nbconvert_exporter": "python",
   "pygments_lexer": "ipython3",
   "version": "3.5.3"
  }
 },
 "nbformat": 4,
 "nbformat_minor": 2
}
